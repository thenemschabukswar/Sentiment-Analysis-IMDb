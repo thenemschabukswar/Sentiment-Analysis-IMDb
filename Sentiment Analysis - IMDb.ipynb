{
 "cells": [
  {
   "cell_type": "markdown",
   "metadata": {},
   "source": [
    "# Load Dataset"
   ]
  },
  {
   "cell_type": "code",
   "execution_count": null,
   "metadata": {},
   "outputs": [],
   "source": [
    "import os\n",
    "path = 'movie_reviews/neg/'\n",
    "list_of_files_neg = os.listdir(path)\n",
    "#There are 1000 positive and 1000 negative reviews in this dataset\n",
    "review = []\n",
    "sentiments = []\n",
    "for fil_name in list_of_files_neg:\n",
    "    name = path + str(fil_name)\n",
    "    with open(name, 'r') as f:\n",
    "        data = f.read()\n",
    "        review.append(data)\n",
    "        sentiments.append('neg')\n",
    "\n",
    "path = 'movie_reviews/pos'\n",
    "list_of_files_pos = os.listdir(path)\n",
    "for fil_name in list_of_files_pos:\n",
    "    name = path + str(fil_name)\n",
    "    with open(name, 'r') as f:\n",
    "        data = f.read()\n",
    "        review.append(data) \n",
    "        sentiments.append('pos')"
   ]
  },
  {
   "cell_type": "markdown",
   "metadata": {},
   "source": [
    "# Preprocessing - Choose which steps to use in any specific order "
   ]
  },
  {
   "cell_type": "markdown",
   "metadata": {},
   "source": [
    "###  Remove period(.), comma(,), semi-colon(;), etc. and convert everything to lower case"
   ]
  },
  {
   "cell_type": "code",
   "execution_count": null,
   "metadata": {},
   "outputs": [],
   "source": [
    "import re\n",
    "\n",
    "REPLACE_WITH_NO_SPACE = re.compile(\"(\\.)|(\\;)|(\\:)|(\\!)|(\\')|(\\?)|(\\,)|(\\\")|(\\()|(\\))|(\\[)|(\\])|(\\d+)|\\\\n|_\")\n",
    "REPLACE_WITH_SPACE = re.compile(\"(<br\\s*/><br\\s*/>)|(\\-)|(\\/)\")\n",
    "NO_SPACE = \"\"\n",
    "SPACE = \" \"\n",
    "\n",
    "def remove_symbols(reviews):\n",
    "    \n",
    "    reviews = [REPLACE_WITH_NO_SPACE.sub(NO_SPACE, line.lower()) for line in reviews]\n",
    "    reviews = [REPLACE_WITH_SPACE.sub(SPACE, line) for line in reviews]\n",
    "    \n",
    "    return reviews"
   ]
  },
  {
   "cell_type": "markdown",
   "metadata": {},
   "source": [
    "### Remove Stopwords"
   ]
  },
  {
   "cell_type": "code",
   "execution_count": null,
   "metadata": {},
   "outputs": [],
   "source": [
    "import nltk\n",
    "#nltk.download('stopwords') #Download using this line if it has not been downloaded earlier\n",
    "from nltk.corpus import stopwords\n",
    "\n",
    "english_stop_words = stopwords.words('english')\n",
    "def remove_stop_words(corpus):\n",
    "    removed_stop_words = []\n",
    "    for review in corpus:\n",
    "        removed_stop_words.append(' '.join([word for word in review.split() if word not in english_stop_words]))\n",
    "    return removed_stop_words"
   ]
  },
  {
   "cell_type": "markdown",
   "metadata": {},
   "source": [
    "### Stemming"
   ]
  },
  {
   "cell_type": "code",
   "execution_count": null,
   "metadata": {},
   "outputs": [],
   "source": [
    "def get_stemmed_text(corpus):\n",
    "    from nltk.stem.porter import PorterStemmer\n",
    "    stemmer = PorterStemmer()\n",
    "\n",
    "    return [' '.join([stemmer.stem(word) for word in review.split()]) for review in corpus]"
   ]
  },
  {
   "cell_type": "markdown",
   "metadata": {},
   "source": [
    "### Lemmatization"
   ]
  },
  {
   "cell_type": "code",
   "execution_count": null,
   "metadata": {},
   "outputs": [],
   "source": [
    "#nltk.download('wordnet') #To download wordnet\n",
    "def get_lemmatized_text(corpus):\n",
    "    \n",
    "    from nltk.stem import WordNetLemmatizer\n",
    "    lemmatizer = WordNetLemmatizer()\n",
    "    return [' '.join([lemmatizer.lemmatize(word) for word in review.split()]) for review in corpus]"
   ]
  },
  {
   "cell_type": "markdown",
   "metadata": {},
   "source": [
    "### Try using different combination to get optimal results"
   ]
  },
  {
   "cell_type": "code",
   "execution_count": null,
   "metadata": {},
   "outputs": [],
   "source": [
    "review = remove_symbols(review)\n",
    "review = remove_stop_words(review)\n",
    "review = get_stemmed_text(review)\n",
    "review = get_lemmatized_text(review)"
   ]
  },
  {
   "cell_type": "markdown",
   "metadata": {},
   "source": [
    "# Vectorizer"
   ]
  },
  {
   "cell_type": "code",
   "execution_count": null,
   "metadata": {},
   "outputs": [],
   "source": [
    "from sklearn.feature_extraction.text import CountVectorizer\n",
    "cv = CountVectorizer(binary=True)\n",
    "cv.fit(review)\n",
    "reviews = cv.transform(review)"
   ]
  },
  {
   "cell_type": "code",
   "execution_count": null,
   "metadata": {},
   "outputs": [],
   "source": [
    "from sklearn.metrics import accuracy_score\n",
    "from sklearn.model_selection import train_test_split"
   ]
  },
  {
   "cell_type": "markdown",
   "metadata": {},
   "source": [
    "# Train model - Logistic Regression"
   ]
  },
  {
   "cell_type": "code",
   "execution_count": null,
   "metadata": {},
   "outputs": [],
   "source": [
    "def fit_by_lr(X, Y, c=0.25):\n",
    "    from sklearn.linear_model import LogisticRegression\n",
    "    X_train, X_val, Y_train, Y_val = train_test_split(X, Y, train_size = 0.80, shuffle=True)\n",
    "    lr = LogisticRegression(C=c)\n",
    "    lr.fit(X_train, Y_train)\n",
    "    print (\"Accuracy with Logistic Regression: %s\" % ( accuracy_score(Y_val, lr.predict(X_val))))"
   ]
  },
  {
   "cell_type": "markdown",
   "metadata": {},
   "source": [
    "# Train model - SVM"
   ]
  },
  {
   "cell_type": "code",
   "execution_count": null,
   "metadata": {},
   "outputs": [],
   "source": [
    "def fit_by_SVM(X, Y, c=1):\n",
    "    from sklearn.svm import LinearSVC\n",
    "    X_train, X_val, Y_train, Y_val = train_test_split(X, Y, train_size = 0.80, shuffle=True)\n",
    "    svm = LinearSVC(C=c)\n",
    "    svm.fit(X_train, Y_train)\n",
    "    print (\"Accuracy with SVM: %s\" % ( accuracy_score(Y_val, svm.predict(X_val))))"
   ]
  },
  {
   "cell_type": "code",
   "execution_count": null,
   "metadata": {},
   "outputs": [],
   "source": [
    "#Test which model works better\n",
    "fit_by_lr(reviews, sentiments)\n",
    "fit_by_SVM(reviews, sentiments)"
   ]
  },
  {
   "cell_type": "markdown",
   "metadata": {},
   "source": [
    "# Predict sentiment for some new reviews"
   ]
  },
  {
   "cell_type": "code",
   "execution_count": null,
   "metadata": {},
   "outputs": [],
   "source": [
    "new_reviews = ['exciting , scary , great special effects ( unlike other summer movies the effects do not take over the movie and are only there when it is really necessary ) and good performances .' , 'from start to finish , this movie does not let go of you .']"
   ]
  },
  {
   "cell_type": "code",
   "execution_count": null,
   "metadata": {},
   "outputs": [],
   "source": [
    "new_transformed = cv.transform(new_review)"
   ]
  },
  {
   "cell_type": "code",
   "execution_count": null,
   "metadata": {},
   "outputs": [],
   "source": []
  }
 ],
 "metadata": {
  "kernelspec": {
   "display_name": "Python 3",
   "language": "python",
   "name": "python3"
  },
  "language_info": {
   "codemirror_mode": {
    "name": "ipython",
    "version": 3
   },
   "file_extension": ".py",
   "mimetype": "text/x-python",
   "name": "python",
   "nbconvert_exporter": "python",
   "pygments_lexer": "ipython3",
   "version": "3.6.5"
  }
 },
 "nbformat": 4,
 "nbformat_minor": 2
}
